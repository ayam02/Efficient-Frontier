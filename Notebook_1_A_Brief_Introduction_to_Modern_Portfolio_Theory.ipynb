{
  "nbformat": 4,
  "nbformat_minor": 0,
  "metadata": {
    "colab": {
      "provenance": []
    },
    "kernelspec": {
      "name": "python3",
      "display_name": "Python 3"
    },
    "language_info": {
      "name": "python"
    }
  },
  "cells": [
    {
      "cell_type": "code",
      "execution_count": null,
      "metadata": {
        "id": "Qrc1q2q3uwgi",
        "cellView": "form"
      },
      "outputs": [],
      "source": [
        "#@title Update Pandas Datareader\n",
        "\n",
        "# !pip install --upgrade pandas-datareader\n",
        "! pip install yfinance"
      ]
    },
    {
      "cell_type": "code",
      "source": [
        "#@title Import Dependencies\n",
        " \n",
        "# import dependencies \n",
        "import datetime\n",
        "import numpy as np\n",
        "import pandas as pd\n",
        "import pandas_datareader as pdr\n",
        "import yfinance as yf\n",
        "import plotly.express as px\n",
        "import plotly.figure_factory as ff\n",
        "import plotly.graph_objects as go\n",
        "import scipy.stats as stats\n",
        "\n",
        "# set display options\n",
        "pd.options.plotting.backend = \"plotly\"\n",
        "pd.options.display.float_format = '{:,.2f}'.format"
      ],
      "metadata": {
        "id": "ViF6UbAZgauT",
        "cellView": "form"
      },
      "execution_count": null,
      "outputs": []
    },
    {
      "cell_type": "markdown",
      "source": [
        "# A Brief Introduction to Modern Portfolio Theory\n",
        "\n",
        "First proposed by economist Harry Markowitz in 1952, Modern Portfolio Theory holds that a given investment's risk and return characteristics should not be viewed in isolation; rather, it should be judged according to how it affects the overall portfolio's risk and return. By optimizing the mix of investments we can do either of the following:\n",
        "\n",
        "* Maximize the return associated with a given level of risk\n",
        "\n",
        "or, equivalently:\n",
        "\n",
        "* Minimize the level of risk associated with a given return\n",
        "\n",
        "In this notebook we will develop the intuition behind this theory. For those of you who are intrested, click [here](https://www.math.hkust.edu.hk/~maykwok/courses/ma362/07F/markowitz_JF.pdf) for Markowitz's original paper \"Portfolio Selection\" from the Journal of Finance.   \n"
      ],
      "metadata": {
        "id": "0BzGXImyBfib"
      }
    },
    {
      "cell_type": "markdown",
      "source": [
        "##Part 1: Gathering Data\n",
        "\n",
        "To begin, we will need some data. Enter a ticker symbol and a date range below."
      ],
      "metadata": {
        "id": "x62yuylUo1dr"
      }
    },
    {
      "cell_type": "code",
      "source": [
        "# Choose a company \n",
        "TICKER = 'TSLA' #@param {type:\"string\"}\n",
        "\n",
        "# set the start and end dates\n",
        "START = '2020-09-24' #@param {type:\"date\"}\n",
        "END = '2022-09-24' #@param {type:\"date\"}\n",
        "\n",
        "# set the data source\n",
        "SOURCE = \"google\""
      ],
      "metadata": {
        "id": "m0FpT1UtvDxJ",
        "cellView": "form"
      },
      "execution_count": null,
      "outputs": []
    },
    {
      "cell_type": "code",
      "source": [
        "#@title Download Stock Data\n",
        "df = yf.download(TICKER, start=START, end=END)\n",
        "# df = pdr.DataReader(TICKER, SOURCE, start=START, end=END)\n",
        "df"
      ],
      "metadata": {
        "id": "ya5Qt-u-vDpA",
        "cellView": "form"
      },
      "execution_count": null,
      "outputs": []
    },
    {
      "cell_type": "markdown",
      "source": [
        "For our purposes, we are only interested in the **Adj Close** column. That is, the closing price adjusted for any stock splits and/or dividends paid."
      ],
      "metadata": {
        "id": "VRel47q73t0l"
      }
    },
    {
      "cell_type": "markdown",
      "source": [
        "## Part 2: Calculating the Return on a Stock\n"
      ],
      "metadata": {
        "id": "-mQ1Ct1OmltP"
      }
    },
    {
      "cell_type": "markdown",
      "source": [
        "The return on a stock comes in two forms:\n",
        "* The **capital gain** (the difference between the selling price and purchase price)\n",
        "* The Dividends paid by the company\n",
        "\n",
        "We can calculate the return on a stock using the following formula:\n",
        "\n",
        "<br><br>\n",
        "$Return=\\frac{Price_{t} - Price_{t-1} + Div} {Price_{t-1}}$\n",
        "<br><br>\n",
        "That is, the return over period $t$ (be it a day, a week, a month, a quarter, etc...) is equal to the price at the end of the period minus the price at the beginning of the period (i.e. your **Capital Gain**), plus any dividends paid, divided by the price at the beginning of the period. We can multiply this value by 100 to convert it from a decimal to a percentage.<br><br>\n",
        "Let's use this formula to calculate **Daily Return** for our stock...  "
      ],
      "metadata": {
        "id": "K2DyUNkPt1s6"
      }
    },
    {
      "cell_type": "code",
      "source": [
        "#@title Adding the Daily Return\n",
        "df[\"Daily Return\"] = np.log(1 + df[\"Adj Close\"].pct_change())\n",
        "df"
      ],
      "metadata": {
        "id": "SFds_2wTvDcj",
        "cellView": "form"
      },
      "execution_count": null,
      "outputs": []
    },
    {
      "cell_type": "markdown",
      "source": [
        "## Part 3: Defining Risk"
      ],
      "metadata": {
        "id": "pljshCe8FpVz"
      }
    },
    {
      "cell_type": "markdown",
      "source": [
        "In the simplest terms, the risk of a stock is measured by how much its returns over a given period differ from the average return over that period. The more its returns differ from its average, the riskier the stock is.<br><br>\n",
        "Mathematically we can measure this difference by calculating the related concepts of **variance** (denoted as $\\sigma^2$) and **standard deviation** ($\\sigma$).<br><br>\n",
        "The **variance** can be calculated as follows:<br><br>\n",
        "$\\sigma^2 = \\frac{\\displaystyle\\sum_{i=1}^{n}(x_i - \\bar{x})^2} {n - 1}$<br><br>\n",
        "And the **standard deviation** is just the square root of the **variance** :<br><br>\n",
        "$\\sigma = \\sqrt{\\frac{\\displaystyle\\sum_{i=1}^{n}(x_i - \\bar{x})^2} {n - 1}}$<br><br>\n",
        "In words, for each return in the period $x_i$, we subtract it from the average return for the period $\\bar{x}$, and square the result. We then add up all these squared values and divide this sum by the number of returns in the period. This is the **variance** $\\sigma^2$. Taking the square root gives **standard deviation** $\\sigma$. "
      ],
      "metadata": {
        "id": "90Iv4dC4Gjt2"
      }
    },
    {
      "cell_type": "markdown",
      "source": [
        "### The Normal Distribution"
      ],
      "metadata": {
        "id": "GsPsakGMUY-j"
      }
    },
    {
      "cell_type": "markdown",
      "source": [
        "For these measures of risk to make sense, we assume that stock returns are normally distributed. That is to say, we assume that it is unlikely that returns will stray too far from the mean. And when they do stray, it is just as likely that return will be above the average as it will be below the average."
      ],
      "metadata": {
        "id": "QBO6yp-7VXjV"
      }
    },
    {
      "cell_type": "code",
      "source": [
        "#@title Plot the Distribution\n",
        "#@markdown Of course, the stock is under no obligation to behave this way. Let’s see how well our stock conforms to this assumption.\n",
        "\n",
        "fig = px.histogram(df, x=\"Daily Return\", nbins=200)\n",
        "\n",
        "# add mean to the figure\n",
        "fig.add_vline(x=df[\"Daily Return\"].mean(), line_dash='dash', line_color='firebrick')\n",
        "\n",
        "fig.add_vline(x=df[\"Daily Return\"].std(), line_dash='dash', line_color='firebrick')\n",
        "fig.add_vline(x=df[\"Daily Return\"].std()*-1, line_dash='dash', line_color='firebrick')\n",
        "\n",
        "# add normal curve to the figure\n",
        "pdf = stats.norm.pdf(df[\"Daily Return\"].sort_values(), df[\"Daily Return\"].mean(), df[\"Daily Return\"].std())\n",
        "fig.add_trace(go.Scatter(x=df[\"Daily Return\"].sort_values(), y=pdf))\n",
        "\n",
        "fig.update_layout(\n",
        "    title_text=f\"Distribution of {TICKER}'s Daily Returns\",\n",
        "    xaxis_title_text='Daily Returns', # xaxis label\n",
        "    yaxis_title_text='Count', # yaxis label\n",
        "    bargap=0.2, # gap between bars of adjacent location coordinates\n",
        "    bargroupgap=0.1 # gap between bars of the same location coordinates\n",
        ")\n",
        "\n",
        "\n",
        "fig.show()"
      ],
      "metadata": {
        "id": "jQ7OiXhuvDL3",
        "cellView": "form"
      },
      "execution_count": null,
      "outputs": []
    },
    {
      "cell_type": "markdown",
      "source": [
        "## Part 4: Constructing Portfolios"
      ],
      "metadata": {
        "id": "EZ4hhCwnJDCZ"
      }
    },
    {
      "cell_type": "markdown",
      "source": [
        "Just as we can measure the risk and return for a single stock, we can do the same for a portfolio of stocks. To calculate the return on a portfolio, simply take the weighted average of each stock’s return.<br><br>\n",
        "\n",
        "$Return_{p} = w_{1}\\cdot r_{1} + w_{2}\\cdot r_{2} + \\dotsc + w_{n}\\cdot r_{n}$\n",
        "<br><br>\n",
        "Calculating the variance and standard deviation of a portfolio is somewhat more complicated. In addition to the weights, we also have to take into account the **covariance** between the stocks - that is, the degree to which the stocks in the portfolio move together. For a two stock portfolio, the variance and standard deviation are calculated as follows:<br><br>\n",
        "\n",
        "$Var_{p} = w_{1}\\cdot \\sigma^2_{1} + w_{2}\\cdot \\sigma^2_{1} + \n",
        "2\\cdot w_{1}\\cdot w_{2}\\cdot Cov_{1,2}$\n",
        "<br><br>\n",
        "$StDev_{p} = \\sqrt{w_{1}\\cdot \\sigma^2_{1} + w_{2}\\cdot \\sigma^2_{1} + \n",
        "2\\cdot w_{1}\\cdot w_{2}\\cdot Cov_{1,2}}$\n",
        "<br><br>\n",
        "\n",
        "(You won’t be responsible for calculating these values by hand.)"
      ],
      "metadata": {
        "id": "1N6koiN5JKGo"
      }
    },
    {
      "cell_type": "markdown",
      "source": [
        "### The Efficient Frontier"
      ],
      "metadata": {
        "id": "pvVaTkgBpuTG"
      }
    },
    {
      "cell_type": "markdown",
      "source": [
        "As noted above, Modern Portfolio Theory allows us to optimize the mix of stocks in our portfolio such that we can maximize the return for a given level of risk, or minimize the level of risk associated with a given return. Portfolios that satisfy this optimal mix of stocks are said to lie along the **efficient frontier**. \n",
        "\n",
        "To construct such portfolios, we first need to gather some data. Below we define a list of stocks. Feel free to change the ticker symbols or add your own."
      ],
      "metadata": {
        "id": "aefXNF07qnyR"
      }
    },
    {
      "cell_type": "code",
      "source": [
        "# a list of ticker symbols\n",
        "TICKERS = [\"AAPL\", \"CAT\", \"BAC\", \"WMT\", \"JNJ\", \"MSFT\", \"GE\",  \"BA\",   \"KO\",  \"DIS\"]"
      ],
      "metadata": {
        "id": "6eFdghrzSJ_i"
      },
      "execution_count": null,
      "outputs": []
    },
    {
      "cell_type": "code",
      "source": [
        "#@title Download Stock Data\n",
        "\n",
        "# set the start and end dates\n",
        "START = '2020-01-01' #@param {type:\"date\"}\n",
        "END = '2022-01-01' #@param {type:\"date\"}\n",
        "\n",
        "# set the data source\n",
        "SOURCE = \"yahoo\"\n",
        "\n",
        "df2 = yf.download(TICKERS, start=START, end=END)[\"Adj Close\"]\n",
        "df2 = df2[TICKERS]\n",
        "# df2 = pdr.DataReader(TICKERS, SOURCE, start=START, end=END)[\"Adj Close\"]\n",
        "df2"
      ],
      "metadata": {
        "id": "gz_-otdj4sXK",
        "cellView": "form"
      },
      "execution_count": null,
      "outputs": []
    },
    {
      "cell_type": "code",
      "source": [
        "#@title\n",
        "#@markdown Next lets choose how many stocks to include in our portfolios,\n",
        "stocks = \"3\" #@param [2, 3, 4, 5, 6]\n",
        "stocks = int(stocks)\n",
        "\n",
        "#@markdown as well as how many random portfolios to generate,\n",
        "portfolios = \"1500\" #@param [500, 1000, 1500, 2000]\n",
        "portfolios = int(portfolios)\n",
        "\n",
        "def get_random_weights(df):\n",
        "  weights = np.random.random(len(df.columns))\n",
        "  weights /= weights.sum()\n",
        "  return weights\n",
        "\n",
        "def get_portfolio_return(df, weights):\n",
        "  return np.dot(df.mean(), weights) * 252\n",
        "\n",
        "def get_portfolio_stdev(df, weights):\n",
        "  return np.sqrt(np.dot(np.dot(df.cov(), weights), weights)) * np.sqrt(252)\n",
        "\n",
        "def make_portfolio(df):\n",
        "    weights = get_random_weights(df)\n",
        "    port_return = get_portfolio_return(df, weights)\n",
        "    port_stdev = get_portfolio_stdev(df, weights)\n",
        "    return weights, port_return, port_stdev\n",
        "\n",
        "def make_portfolio_df(df, s, p):\n",
        "\n",
        "  returns_df = np.log(1+df.iloc[:, :s].pct_change())\n",
        "\n",
        "  cols = [f\"Weight: {col}\" for col in returns_df]\n",
        "  cols.append(\"Return\")\n",
        "  cols.append(\"Stdev\")\n",
        "  \n",
        "  port_df = pd.DataFrame(columns=cols)\n",
        "\n",
        "  for _ in range(p):\n",
        "    w, r, s = make_portfolio(returns_df)\n",
        "    port_dict = {cols[i]: weight for i, weight in enumerate(w)}\n",
        "    port_dict[\"Return\"] = r\n",
        "    port_dict[\"Stdev\"] = s\n",
        "    port_df = port_df.append(port_dict, ignore_index=True)\n",
        "\n",
        "  return port_df\n",
        "\n",
        "pdf = make_portfolio_df(df2, stocks, portfolios)\n",
        "\n",
        "#@markdown and finally, plot the Efficient Frontier.\n",
        "fig = px.scatter(pdf, \n",
        "                 x=\"Stdev\", \n",
        "                 y=\"Return\", \n",
        "                 hover_data={col: \":.2f\" for col in pdf.columns},\n",
        "                 title=\"Efficient Frontier\",\n",
        "                 labels={\"Stdev\": \"Annualised Risk (Standard Deviation)\",\n",
        "                         \"Return\": \"Annualised Return\"})\n",
        "\n",
        "fig.update_traces(marker=dict(color=pdf[\"Return\"]/pdf[\"Stdev\"], \n",
        "                              size=7,\n",
        "                              line=dict(width=1),\n",
        "                              colorscale=\"RdBu\"))\n",
        "\n",
        "fig.show()\n",
        "\n"
      ],
      "metadata": {
        "id": "M3HJ-l29SKWL",
        "cellView": "form"
      },
      "execution_count": null,
      "outputs": []
    },
    {
      "cell_type": "markdown",
      "source": [
        "## Part 5: The Benefits of Diversification"
      ],
      "metadata": {
        "id": "wyysHRULJqyp"
      }
    },
    {
      "cell_type": "markdown",
      "source": [
        "As we’ve seen, by adding stocks to your portfolio we can reduce the risk associated with a given return. However, the benefits of diversification are not unlimited. Beyond a certain point adding more stocks will cease to have an appreciable effect on the portfolio’s risk.\n",
        "\n",
        "Of course, diversification is not just about increasing the number of stocks; for the level of risk to fall the stocks in the portfolio must be **uncorrelated**. If instead they tend to rise and fall together, diversification offers no advantage."
      ],
      "metadata": {
        "id": "3WR6YOSgMNky"
      }
    },
    {
      "cell_type": "code",
      "source": [
        "#@title The Limits of Diversification\n",
        "\n",
        "def get_uniform_weights(df):\n",
        "  return np.array([1/len(df.columns)] * len(df.columns))\n",
        "\n",
        "def make_dvrs_df(df):\n",
        "\n",
        "  returns_df = np.log(1+df.pct_change())\n",
        "\n",
        "  dvrs_df = pd.DataFrame(columns=[\"Stocks\", \"Risk\"])\n",
        "\n",
        "  sorted_cols = (returns_df.std() * np.sqrt(252)).sort_values(ascending=False).index\n",
        "\n",
        "  for i in range(1, len(df.columns) + 1):\n",
        "\n",
        "      port_df = returns_df[sorted_cols[:i]].copy()\n",
        "      weights = get_uniform_weights(port_df)\n",
        "      temp_dict = {\"Number of Stocks\": i,\n",
        "                   \"Risk\": get_portfolio_stdev(port_df, weights),\n",
        "                   \"Stocks\": \" \".join(port_df.columns)}\n",
        "\n",
        "      dvrs_df = dvrs_df.append(temp_dict, ignore_index=True)\n",
        "\n",
        "  return dvrs_df\n",
        "\n",
        "# get more data\n",
        "TICKERS = [\"META\", \"HON\", \"AMC\", \"GILD\",  \"PG\",  \"PFE\",  \"IBM\", \"TSLA\", \"MMM\", \"GME\"]\n",
        "\n",
        "df3 = df2.append(yf.download(TICKERS, start=START, end=END)[\"Adj Close\"])\n",
        "# df3 = df2.append(pdr.DataReader(TICKERS, SOURCE, start=START, end=END)[\"Adj Close\"])\n",
        "ddf = make_dvrs_df(df3)\n",
        "\n",
        "# make the plot\n",
        "fig = px.line(ddf, x=\"Number of Stocks\", y=\"Risk\", line_shape='spline')\n",
        "fig.update_traces(line=dict(width=2, color=\"red\"))\n",
        "fig.update_layout(title=\"Diversification’s Diminishing Returns\")\n",
        "fig.show()"
      ],
      "metadata": {
        "id": "InkrC7CsA43X",
        "cellView": "form"
      },
      "execution_count": null,
      "outputs": []
    },
    {
      "cell_type": "markdown",
      "source": [
        "We can see that the effects of diversification are negligible beyond the 15th or so stock. We refer to the risk we have diversified away as **company** or **unique** risk; the risk that remains is **market risk**."
      ],
      "metadata": {
        "id": "n7ZoU4STJiyI"
      }
    },
    {
      "cell_type": "markdown",
      "source": [
        "## Part 6: Modern Portfolio Theory: A Cynical Take"
      ],
      "metadata": {
        "id": "KbyQMawDLueW"
      }
    },
    {
      "cell_type": "markdown",
      "source": [
        "Like any theory, MPT has its critics. Perhaps its biggest drawback is what it implies about our investing acumen. To accept MPT’s basic premise is to admit we don’t know what we’re doing; we don’t know how to distinguish a good investment from a bad investment, so instead we buy some of everything and let the laws of statistics provide for our returns.\n",
        " \n",
        "While this approach does little to flatter our ego, the good news is that there’s no shame in not knowing how to pick stocks. Because as it happens, neither do the professionals. \n",
        " \n",
        "It is one of the most replicated findings in all of finance that professional money managers, over the long run, consistently fail to beat the market, especially after management fees are deducted from their returns. This explains the popularity of firms like BlackRock, State Street and Vanguard whose index funds don’t seek to beat, but only track, the market - the ultimate form of diversification, at least when it comes to stocks.  \n"
      ],
      "metadata": {
        "id": "61oroO-CLuLX"
      }
    },
    {
      "cell_type": "code",
      "source": [],
      "metadata": {
        "id": "47Ncra4cA4iH"
      },
      "execution_count": null,
      "outputs": []
    }
  ]
}